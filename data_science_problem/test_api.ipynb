{
 "cells": [
  {
   "cell_type": "markdown",
   "id": "e593243a-df08-4ed9-80b7-3538fc7ffc25",
   "metadata": {},
   "source": [
    "### api inference\n",
    "\n",
    "example post to the model - the ip address 172.17.0.3 belongs to the model deployment container inwhich the model is deployed with an api using fastapi.\n",
    "\n",
    "`json` contains the data from each sensor and is posted to the model\n",
    "`param` specifies the model that is being used, if no param is passed, the latest model is used"
   ]
  },
  {
   "cell_type": "code",
   "execution_count": 24,
   "id": "7ca0bc4f-04cb-469e-be97-8864cd2b5ef9",
   "metadata": {},
   "outputs": [
    {
     "name": "stdout",
     "output_type": "stream",
     "text": [
      "{'prediction': 1}\n"
     ]
    }
   ],
   "source": [
    "import requests\n",
    "import json\n",
    "\n",
    "url = \"http://172.17.0.3:8000/predict\"\n",
    "\n",
    "data_1 = {\n",
    "    \"sensor_1\": 1.662361,\n",
    "    \"sensor_2\": 0.465601\n",
    "}\n",
    "\n",
    "data_0 = {\n",
    "    \"sensor_1\": 1.0,\n",
    "    \"sensor_2\": 0.465601\n",
    "}\n",
    "\n",
    "#if you want to use a different model\n",
    "\n",
    "params = {\n",
    "    \"model\": \"sensor_data_classifier_2024_06_05.pkl\"\n",
    "}\n",
    "\n",
    "response = requests.post(url,params=params, json=data_1)\n",
    "\n",
    "print(response.json())"
   ]
  },
  {
   "cell_type": "code",
   "execution_count": null,
   "id": "6c089f53-c882-408c-9492-b1655bfc1e8c",
   "metadata": {},
   "outputs": [],
   "source": []
  }
 ],
 "metadata": {
  "kernelspec": {
   "display_name": "Python 3 (ipykernel)",
   "language": "python",
   "name": "python3"
  },
  "language_info": {
   "codemirror_mode": {
    "name": "ipython",
    "version": 3
   },
   "file_extension": ".py",
   "mimetype": "text/x-python",
   "name": "python",
   "nbconvert_exporter": "python",
   "pygments_lexer": "ipython3",
   "version": "3.12.3"
  }
 },
 "nbformat": 4,
 "nbformat_minor": 5
}
